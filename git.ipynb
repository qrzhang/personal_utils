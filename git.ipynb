{
 "cells": [
  {
   "attachments": {},
   "cell_type": "markdown",
   "metadata": {},
   "source": [
    "## Git"
   ]
  },
  {
   "attachments": {},
   "cell_type": "markdown",
   "metadata": {},
   "source": [
    "### <font color='steelblue'>Basic usage</font>\n",
    "***\n",
    "```\n",
    "### list all remote branches \n",
    "git branch -r\n",
    "\n",
    "### Discard local changes\n",
    "git reset --hard\n",
    "```"
   ]
  },
  {
   "attachments": {},
   "cell_type": "markdown",
   "metadata": {},
   "source": [
    "### <font color='steelblue'>git push</font>\n",
    "***\n",
    "```\n",
    "git init\n",
    "git status\n",
    "git add --all \n",
    "git commit -am \"Notes for changes\"\n",
    "git push\n",
    "```\n"
   ]
  },
  {
   "attachments": {},
   "cell_type": "markdown",
   "metadata": {},
   "source": [
    "### <font color='steelblue'>Install a package from Git</font>\n",
    "***\n",
    "```\n",
    "### clone package from github\n",
    "git clone https://github.com/qrzhang/sample.git\n",
    "\n",
    "###\n",
    "python -m pip install -U sample  \n",
    "python setup.py install --user   #local\n",
    "python -m pip install -U sample/ #local\n",
    "```"
   ]
  },
  {
   "attachments": {},
   "cell_type": "markdown",
   "metadata": {},
   "source": [
    "### <font color='steelblue'>Renaming local and remote</font>\n",
    "***\n",
    "```\n",
    "### Rename the local branch to the new name\n",
    "git branch -m <old_name> <new_name>\n",
    "\n",
    "### Delete the old branch on remote - where <remote> is, for example, origin\n",
    "git push <remote> :<old_name>\n",
    "\n",
    "### Prevent git from using the old name when pushing in the next step.\n",
    "### Otherwise, git will use the old upstream name instead of <new_name>.\n",
    "git branch --unset-upstream <new_name>\n",
    "\n",
    "### Push the new branch to remote\n",
    "git push <remote> <new_name>\n",
    "\n",
    "### Reset the upstream branch for the new_name local branch\n",
    "git push <remote> -u <new_name>\n",
    "```"
   ]
  },
  {
   "attachments": {},
   "cell_type": "markdown",
   "metadata": {},
   "source": [
    "### <font color='steelblue'>Update working branch *Qian* from another branch *Dev*</font>\n",
    "***\n",
    "```\n",
    "git checkout Dev\n",
    "git pull\n",
    "git Qian\n",
    "\n",
    "git merge Dev\n",
    "git rebase Dev\n",
    "\n",
    "git push origin Qian\n",
    "```"
   ]
  }
 ],
 "metadata": {
  "language_info": {
   "name": "python"
  },
  "orig_nbformat": 4
 },
 "nbformat": 4,
 "nbformat_minor": 2
}
