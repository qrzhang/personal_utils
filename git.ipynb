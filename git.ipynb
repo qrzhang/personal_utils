{
 "cells": [
  {
   "attachments": {},
   "cell_type": "markdown",
   "metadata": {},
   "source": [
    "## Git"
   ]
  },
  {
   "attachments": {},
   "cell_type": "markdown",
   "metadata": {},
   "source": [
    "### <font color='steelblue'>Basic usage</font>\n",
    "***\n",
    "```\n",
    "### list all remote branches \n",
    "git branch -r\n",
    "\n",
    "### Discard local changes\n",
    "git reset --hard\n",
    "```"
   ]
  },
  {
   "attachments": {},
   "cell_type": "markdown",
   "metadata": {},
   "source": [
    "### <font color='steelblue'>git push</font>\n",
    "***\n",
    "```\n",
    "git init\n",
    "git status\n",
    "git add --all \n",
    "git commit -am \"Notes for changes\"\n",
    "git push\n",
    "```\n"
   ]
  },
  {
   "attachments": {},
   "cell_type": "markdown",
   "metadata": {},
   "source": [
    "### <font color='steelblue'>Install a package from Git</font>\n",
    "***\n",
    "```\n",
    "### clone package from github\n",
    "git clone https://github.com/qrzhang/sample.git\n",
    "\n",
    "###\n",
    "python -m pip install -U sample  \n",
    "python setup.py install --user   #local\n",
    "python -m pip install -U sample/ #local\n",
    "```"
   ]
  },
  {
   "attachments": {},
   "cell_type": "markdown",
   "metadata": {},
   "source": [
    "### <font color='steelblue'>Update working branch *Qian* from another branch *Dev*</font>\n",
    "***\n",
    "```\n",
    "git checkout Dev\n",
    "git pull\n",
    "git Qian\n",
    "\n",
    "git merge Dev\n",
    "git rebase Dev\n",
    "\n",
    "git push origin Qian\n",
    "```"
   ]
  }
 ],
 "metadata": {
  "language_info": {
   "name": "python"
  },
  "orig_nbformat": 4
 },
 "nbformat": 4,
 "nbformat_minor": 2
}
