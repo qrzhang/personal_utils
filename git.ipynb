{
 "cells": [
  {
   "attachments": {},
   "cell_type": "markdown",
   "metadata": {},
   "source": [
    "## Git"
   ]
  },
  {
   "attachments": {},
   "cell_type": "markdown",
   "metadata": {},
   "source": [
    "### <font color='steelblue'>Basic usage</font>\n",
    "***\n",
    "```\n",
    "### list all remote branches \n",
    "git branch -r\n",
    "\n",
    "### Discard local changes\n",
    "git reset --hard\n",
    "```"
   ]
  },
  {
   "attachments": {},
   "cell_type": "markdown",
   "metadata": {},
   "source": [
    "### <font color='steelblue'>git push</font>\n",
    "***\n",
    "```\n",
    "git init\n",
    "git status\n",
    "git add --all \n",
    "git commit -am \"Notes for changes\"\n",
    "git push\n",
    "```\n"
   ]
  },
  {
   "attachments": {},
   "cell_type": "markdown",
   "metadata": {},
   "source": [
    "### <font color='steelblue'>Install a package from Git</font>\n",
    "***\n",
    "```\n",
    "### clone package from github\n",
    "git clone https://github.com/qrzhang/sample.git\n",
    "\n",
    "###\n",
    "python -m pip install -U sample  \n",
    "python setup.py install --user   #local\n",
    "python -m pip install -U sample/ #local\n",
    "```"
   ]
  },
  {
   "attachments": {},
   "cell_type": "markdown",
   "metadata": {},
   "source": [
    "### <font color='steelblue'>Renaming local and remote</font>\n",
    "***\n",
    "```\n",
    "git branch -m old_branch new_branch         # Rename branch locally    \n",
    "git push origin :old_branch                 # Delete the old branch    \n",
    "git push --set-upstream origin new_branch   # Push the new branch, set local branch to track the new remote\n",
    "```"
   ]
  },
  {
   "attachments": {},
   "cell_type": "markdown",
   "metadata": {},
   "source": [
    "### <font color='steelblue'>Update working branch *Qian* from another branch *Dev*</font>\n",
    "***\n",
    "```\n",
    "git checkout Dev\n",
    "git pull\n",
    "git Qian\n",
    "\n",
    "git merge Dev\n",
    "git rebase Dev\n",
    "\n",
    "git push origin Qian\n",
    "```"
   ]
  }
 ],
 "metadata": {
  "language_info": {
   "name": "python"
  },
  "orig_nbformat": 4
 },
 "nbformat": 4,
 "nbformat_minor": 2
}
